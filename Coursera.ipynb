{
 "cells": [
  {
   "cell_type": "markdown",
   "id": "7a925d5f-7d52-405b-a596-b5c3b8e3bd84",
   "metadata": {},
   "source": [
    "Coursera tools for data science project"
   ]
  },
  {
   "cell_type": "markdown",
   "id": "04a92864-12e7-4a4d-92bd-4ba02425ca3a",
   "metadata": {},
   "source": [
    "My name is Al, and this is my project."
   ]
  },
  {
   "cell_type": "markdown",
   "id": "8e1374f0-b6a6-4977-8587-db91ef44d1f7",
   "metadata": {},
   "source": [
    "There are many data science languages. The three popular ones are python, R, and SQL."
   ]
  },
  {
   "cell_type": "markdown",
   "id": "87df8ea6-67d2-4c41-954b-c3e4dcc76b59",
   "metadata": {},
   "source": [
    "Libraries:\n",
    "    NumPy,\n",
    "    Pandas,\n",
    "    Matplotlib"
   ]
  },
  {
   "cell_type": "markdown",
   "id": "e89f1b7e-6d02-46a6-a1fa-2e6e7f4574db",
   "metadata": {},
   "source": [
    "|IBM Watson     |Python      |SQL|\n",
    "|---------------|------------|---|\n",
    "|SPSS           |NumPy, My plot lib| Oracel|"
   ]
  },
  {
   "cell_type": "markdown",
   "id": "a53317d1-fc64-457e-b5d6-b70305a7778c",
   "metadata": {},
   "source": [
    "the next cell will add 7 to 3, then multiply the sum by 4"
   ]
  },
  {
   "cell_type": "code",
   "execution_count": 4,
   "id": "cb4c16e4-10b2-4deb-886a-931ac17765de",
   "metadata": {},
   "outputs": [
    {
     "data": {
      "text/plain": [
       "40"
      ]
     },
     "execution_count": 4,
     "metadata": {},
     "output_type": "execute_result"
    }
   ],
   "source": [
    "(7+3)*4"
   ]
  },
  {
   "cell_type": "code",
   "execution_count": 8,
   "id": "7acdb35c-93cb-4116-9594-b99ce1345b35",
   "metadata": {},
   "outputs": [
    {
     "name": "stdout",
     "output_type": "stream",
     "text": [
      "6:14\n"
     ]
    }
   ],
   "source": [
    "total_minutes = 374\n",
    "\n",
    "# Get hours with floor division\n",
    "hours = total_minutes // 60\n",
    "\n",
    "# Get additional minutes with modulus\n",
    "minutes = total_minutes % 60\n",
    "\n",
    "# Create time as a string\n",
    "time_string = \"{}:{}\".format(hours, minutes)\n",
    "\n",
    "print(time_string) # Prints '6:14' in this example"
   ]
  },
  {
   "cell_type": "markdown",
   "id": "2c8f6a4c-943c-499b-a2a5-55dad60ade23",
   "metadata": {},
   "source": [
    "Oobjectives: To be able to show my ability to upload a Jupyter notebook to GitHub"
   ]
  },
  {
   "cell_type": "code",
   "execution_count": null,
   "id": "f7f8fc97-487f-41db-b944-d6f9208d20fa",
   "metadata": {},
   "outputs": [],
   "source": []
  }
 ],
 "metadata": {
  "kernelspec": {
   "display_name": "Python",
   "language": "python",
   "name": "conda-env-python-py"
  },
  "language_info": {
   "codemirror_mode": {
    "name": "ipython",
    "version": 3
   },
   "file_extension": ".py",
   "mimetype": "text/x-python",
   "name": "python",
   "nbconvert_exporter": "python",
   "pygments_lexer": "ipython3",
   "version": "3.7.12"
  }
 },
 "nbformat": 4,
 "nbformat_minor": 5
}
